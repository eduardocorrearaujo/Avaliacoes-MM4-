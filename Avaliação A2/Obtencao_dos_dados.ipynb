{
  "nbformat": 4,
  "nbformat_minor": 0,
  "metadata": {
    "colab": {
      "name": "Obtencao_dos_dados.ipynb",
      "provenance": []
    },
    "kernelspec": {
      "name": "python3",
      "display_name": "Python 3"
    }
  },
  "cells": [
    {
      "cell_type": "code",
      "metadata": {
        "id": "auyuRAYKtGki"
      },
      "source": [
        "import pandas as pd\n",
        "\n",
        "import matplotlib.pyplot as plt\n",
        "import matplotlib.ticker as ticker\n",
        "\n",
        "%matplotlib inline\n",
        "%config InlineBackend.figure_format = 'svg'"
      ],
      "execution_count": null,
      "outputs": []
    },
    {
      "cell_type": "markdown",
      "metadata": {
        "id": "JnPFt-fgBvKW"
      },
      "source": [
        "Obtendo os dados do [Our World in Data](https://ourworldindata.org/coronavirus)."
      ]
    },
    {
      "cell_type": "code",
      "metadata": {
        "id": "thvefrVXt0kq"
      },
      "source": [
        "dadosCOVID = pd.read_csv(\"https://raw.githubusercontent.com/owid/covid-19-data/master/public/data/owid-covid-data.csv\")\n",
        "dadosge = dadosCOVID.loc[dadosCOVID.location == 'Germany']"
      ],
      "execution_count": null,
      "outputs": []
    },
    {
      "cell_type": "markdown",
      "metadata": {
        "id": "fPSlKuDRt3dT"
      },
      "source": [
        "Definindo um dataset com os dados que serão fitados"
      ]
    },
    {
      "cell_type": "code",
      "metadata": {
        "id": "hGBx2Y4Vt3I4"
      },
      "source": [
        "dadosCOVID = pd.read_csv(\"https://raw.githubusercontent.com/owid/covid-19-data/master/public/data/owid-covid-data.csv\")\n",
        "dadosge = dadosCOVID.loc[dadosCOVID.location == 'Germany']\n",
        "\n",
        "\n",
        "dadosge.index = np.arange(len(dadosge.date))\n",
        "\n",
        "dadosged1 = dadosge.loc[dadosge.date == '2020-01-27']\n",
        "\n",
        "data1 = dadosged1.index[0]\n",
        "\n",
        "dadosged2 = dadosge.loc[dadosge.date == '2020-11-26']\n",
        "\n",
        "data2 = dadosged2.index[0]\n",
        "\n",
        "\n",
        "dadosged3 = dadosge.loc[dadosge.date == '2020-06-15']\n",
        "\n",
        "data3 = dadosged3.index[0]\n",
        "\n",
        "dados = dadosge.iloc[data1:data2+1]\n",
        "\n",
        "\n",
        "dados = dados[['location', 'date', 'total_cases', 'new_cases_smoothed', 'total_deaths', 'new_deaths_smoothed']]\n",
        "dados.head()"
      ],
      "execution_count": null,
      "outputs": []
    },
    {
      "cell_type": "markdown",
      "metadata": {
        "id": "Uj-edoZHt9RM"
      },
      "source": [
        "Plotando os gráficos"
      ]
    },
    {
      "cell_type": "code",
      "metadata": {
        "id": "C2UAI_Vjt882"
      },
      "source": [
        "f, ((ax1, ax2), (ax3,ax4)) = plt.subplots(2, 2, figsize = (16,11))\n",
        "\n",
        "\n",
        "#fig 1\n",
        "ax1.plot(dados.date, dados.total_cases)\n",
        "ax1.set_title(r'Curva de casos acumulados')\n",
        "ax1.set_ylabel(\"Número de indivíduos\")\n",
        "ax1.set_xlabel(\"Data (2020)\")\n",
        "\n",
        "#fig 2 \n",
        "ax2.plot(dados.date, dados.new_cases_smoothed)\n",
        "ax2.set_title(r'Novos casos')\n",
        "ax2.set_ylabel(\"Número de indivíduos\")\n",
        "ax2.set_xlabel(\"Data (2020)\")\n",
        "\n",
        "\n",
        "#fig 3\n",
        "ax3.plot(dados.date, dados.total_deaths)\n",
        "ax3.set_title(r'Curva de óbitos acumulados')\n",
        "ax3.set_ylabel(\"Número de indivíduos\")\n",
        "ax3.set_xlabel(\"Data (2020)\")\n",
        "\n",
        "#fig 4\n",
        "ax4.plot(dados.date, dados.new_deaths_smoothed)\n",
        "ax4.set_title(r'Novos óbitos')\n",
        "ax4.set_ylabel(\"Número de indivíduos\")\n",
        "ax4.set_xlabel(\"Data (2020)\")\n",
        "\n",
        "\n",
        "for ax in [ax1,ax2,ax3,ax4]:\n",
        "  ax.set_xticklabels(('','27-01','27-03','26-05','25-07','23-09', '26-11'))\n",
        "  ax.xaxis.set_major_locator(ticker.MaxNLocator(6))\n",
        "\n",
        "\n",
        "plt.savefig('curvas.svg')\n",
        "plt.show()"
      ],
      "execution_count": null,
      "outputs": []
    },
    {
      "cell_type": "markdown",
      "metadata": {
        "id": "QCE54FZfuKi2"
      },
      "source": [
        "Separando o dataset da primeira onda: "
      ]
    },
    {
      "cell_type": "code",
      "metadata": {
        "id": "l7Yft4upuMgY"
      },
      "source": [
        "dados1onda = dadosge.iloc[data1:data3+1]\n",
        "\n",
        "dados1onda = dados1onda[['location', 'date', 'total_cases', 'new_cases_smoothed', 'total_deaths', 'new_deaths_smoothed']]\n",
        "\n",
        "dados1onda.tail()"
      ],
      "execution_count": null,
      "outputs": []
    },
    {
      "cell_type": "markdown",
      "metadata": {
        "id": "gfy5UF79uPHw"
      },
      "source": [
        "Separando o dataset da segunda onda"
      ]
    },
    {
      "cell_type": "code",
      "metadata": {
        "id": "RIg255uOuR3x"
      },
      "source": [
        "dados2onda = dadosge.iloc[data3:data2+1]\n",
        "\n",
        "dados2onda = dados2onda[['location', 'date', 'total_cases', 'new_cases_smoothed', 'total_deaths', 'new_deaths_smoothed']]\n",
        "\n",
        "dados2onda.head()"
      ],
      "execution_count": null,
      "outputs": []
    }
  ]
}